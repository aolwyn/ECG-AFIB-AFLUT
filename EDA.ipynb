{
 "cells": [
  {
   "cell_type": "markdown",
   "metadata": {},
   "source": [
    "# Exploratory Data Analysis (EDA)\n",
    "\n",
    "Shifting some of the previous work to here in order to cleanup the main file. "
   ]
  },
  {
   "cell_type": "code",
   "execution_count": 3,
   "metadata": {},
   "outputs": [],
   "source": [
    "# Import libraries. \n",
    "import numpy as np\n",
    "import torch\n",
    "import pandas as pd\n",
    "import matplotlib.pyplot as plt \n",
    "import os\n",
    "import wfdb\n",
    "import pickle\n",
    "import sys\n",
    "import glob\n",
    "from scipy.signal import butter, lfilter\n",
    "import pprint\n"
   ]
  },
  {
   "cell_type": "code",
   "execution_count": 4,
   "metadata": {},
   "outputs": [],
   "source": [
    "# Load helper files.\n",
    "import dataloaders\n",
    "import visualize\n",
    "import preprocess\n",
    "import segment "
   ]
  },
  {
   "cell_type": "code",
   "execution_count": 5,
   "metadata": {},
   "outputs": [
    {
     "name": "stdout",
     "output_type": "stream",
     "text": [
      "Using device: cpu\n",
      "\n",
      "Using the CPU, no GPU found\n"
     ]
    }
   ],
   "source": [
    "dataloaders.get_device_info()"
   ]
  },
  {
   "cell_type": "code",
   "execution_count": 6,
   "metadata": {},
   "outputs": [],
   "source": [
    "# 'C:/Users/henry/OneDrive/Desktop/ELEC 872 - AI and Interactive Systems/Project/mit-bih-arrhythmia-database-1.0.0/'\n",
    "# 'G:/Datasets/mit-bih-arrhythmia-database-1.0.0/'\n",
    "file_path = 'G:/Datasets/mit-bih-arrhythmia-database-1.0.0/'"
   ]
  },
  {
   "cell_type": "code",
   "execution_count": 7,
   "metadata": {},
   "outputs": [
    {
     "name": "stdout",
     "output_type": "stream",
     "text": [
      "(451388, 2)\n",
      "Total Time: 30.092533333333332 Minutes\n",
      "Number of leads: 2\n"
     ]
    }
   ],
   "source": [
    "# Try reading in 1 down sampled record.\n",
    "signal, annotations = dataloaders.load_record(file_path + '/103')\n",
    "print(signal.shape)\n",
    "print(\"Total Time:\" , signal.shape[0] / (250*60) , \"Minutes\") # should print out soemthing close to 30 minutes and 6 seconds in seconds \n",
    "record = wfdb.rdrecord(file_path+'/100')  \n",
    "# test check for loading lead count, weird bug\n",
    "print(\"Number of leads:\", record.p_signal.shape[1])"
   ]
  },
  {
   "cell_type": "code",
   "execution_count": null,
   "metadata": {},
   "outputs": [
    {
     "name": "stdout",
     "output_type": "stream",
     "text": [
      "done patient: G:/Datasets/mit-bih-arrhythmia-database-1.0.0/100\n",
      "done patient: G:/Datasets/mit-bih-arrhythmia-database-1.0.0/101\n",
      "done patient: G:/Datasets/mit-bih-arrhythmia-database-1.0.0/102\n",
      "done patient: G:/Datasets/mit-bih-arrhythmia-database-1.0.0/103\n",
      "done patient: G:/Datasets/mit-bih-arrhythmia-database-1.0.0/104\n",
      "done patient: G:/Datasets/mit-bih-arrhythmia-database-1.0.0/105\n",
      "done patient: G:/Datasets/mit-bih-arrhythmia-database-1.0.0/106\n",
      "done patient: G:/Datasets/mit-bih-arrhythmia-database-1.0.0/107\n",
      "done patient: G:/Datasets/mit-bih-arrhythmia-database-1.0.0/108\n",
      "done patient: G:/Datasets/mit-bih-arrhythmia-database-1.0.0/109\n",
      "done patient: G:/Datasets/mit-bih-arrhythmia-database-1.0.0/111\n",
      "done patient: G:/Datasets/mit-bih-arrhythmia-database-1.0.0/112\n",
      "done patient: G:/Datasets/mit-bih-arrhythmia-database-1.0.0/113\n",
      "done patient: G:/Datasets/mit-bih-arrhythmia-database-1.0.0/114\n",
      "done patient: G:/Datasets/mit-bih-arrhythmia-database-1.0.0/115\n",
      "done patient: G:/Datasets/mit-bih-arrhythmia-database-1.0.0/116\n",
      "done patient: G:/Datasets/mit-bih-arrhythmia-database-1.0.0/117\n",
      "done patient: G:/Datasets/mit-bih-arrhythmia-database-1.0.0/118\n",
      "done patient: G:/Datasets/mit-bih-arrhythmia-database-1.0.0/119\n",
      "done patient: G:/Datasets/mit-bih-arrhythmia-database-1.0.0/121\n",
      "done patient: G:/Datasets/mit-bih-arrhythmia-database-1.0.0/122\n",
      "done patient: G:/Datasets/mit-bih-arrhythmia-database-1.0.0/123\n",
      "done patient: G:/Datasets/mit-bih-arrhythmia-database-1.0.0/124\n",
      "done patient: G:/Datasets/mit-bih-arrhythmia-database-1.0.0/200\n",
      "done patient: G:/Datasets/mit-bih-arrhythmia-database-1.0.0/201\n",
      "done patient: G:/Datasets/mit-bih-arrhythmia-database-1.0.0/202\n",
      "done patient: G:/Datasets/mit-bih-arrhythmia-database-1.0.0/203\n",
      "done patient: G:/Datasets/mit-bih-arrhythmia-database-1.0.0/205\n",
      "done patient: G:/Datasets/mit-bih-arrhythmia-database-1.0.0/207\n",
      "done patient: G:/Datasets/mit-bih-arrhythmia-database-1.0.0/208\n",
      "done patient: G:/Datasets/mit-bih-arrhythmia-database-1.0.0/209\n",
      "done patient: G:/Datasets/mit-bih-arrhythmia-database-1.0.0/210\n",
      "done patient: G:/Datasets/mit-bih-arrhythmia-database-1.0.0/212\n",
      "done patient: G:/Datasets/mit-bih-arrhythmia-database-1.0.0/213\n",
      "done patient: G:/Datasets/mit-bih-arrhythmia-database-1.0.0/214\n",
      "done patient: G:/Datasets/mit-bih-arrhythmia-database-1.0.0/215\n",
      "done patient: G:/Datasets/mit-bih-arrhythmia-database-1.0.0/217\n",
      "done patient: G:/Datasets/mit-bih-arrhythmia-database-1.0.0/219\n",
      "done patient: G:/Datasets/mit-bih-arrhythmia-database-1.0.0/220\n",
      "done patient: G:/Datasets/mit-bih-arrhythmia-database-1.0.0/221\n",
      "done patient: G:/Datasets/mit-bih-arrhythmia-database-1.0.0/222\n",
      "done patient: G:/Datasets/mit-bih-arrhythmia-database-1.0.0/223\n",
      "done patient: G:/Datasets/mit-bih-arrhythmia-database-1.0.0/228\n"
     ]
    }
   ],
   "source": [
    "# Load data. \n",
    "patient_data = dataloaders.load_all_records(file_path)"
   ]
  },
  {
   "cell_type": "code",
   "execution_count": null,
   "metadata": {},
   "outputs": [],
   "source": [
    "# print(patient_data)\n",
    "print(patient_data['102'][0])  # Prints the first beat entry for patient 100"
   ]
  },
  {
   "cell_type": "code",
   "execution_count": null,
   "metadata": {},
   "outputs": [],
   "source": [
    "pp = pprint.PrettyPrinter(indent=2)\n",
    "\n",
    "# Print the structure of the patient_data dictionary\n",
    "pp.pprint(patient_data['103'][:3])"
   ]
  },
  {
   "cell_type": "code",
   "execution_count": null,
   "metadata": {},
   "outputs": [],
   "source": [
    "# Visualize the raw ECG with annotations for the 1 record.\n",
    "visualize.visualize_ecg_with_labels(signal, annotations, fs=250, duration=15)\n",
    "# visualize.visualize_ecg_with_annotationsV2(patient_data, patient_id='221', num_beats=5)"
   ]
  },
  {
   "cell_type": "code",
   "execution_count": null,
   "metadata": {},
   "outputs": [],
   "source": [
    "rr_intervals = preprocess.calculate_rr_intervals(patient_data, fs=250)\n",
    "print(rr_intervals)"
   ]
  },
  {
   "cell_type": "code",
   "execution_count": null,
   "metadata": {},
   "outputs": [],
   "source": [
    "#NOTE TLDR; uncomment to see if any missing values, there isnt any. \n",
    "\n",
    "# missing_report = preprocess.check_for_missing_values(patient_data)\n"
   ]
  },
  {
   "cell_type": "code",
   "execution_count": null,
   "metadata": {},
   "outputs": [],
   "source": [
    "# # R-R interval calculation. \n",
    "# rr_intervals_report = preprocess.calculate_rr_intervals(patient_data, fs=360)\n",
    "# # print(\"R-R intervals for patient 100:\", rr_intervals_report.get('10', []))\n",
    "\n",
    "# unique_rr_counts = {patient_id: len(set(rr_intervals)) for patient_id, rr_intervals in rr_intervals_report.items()}\n",
    "# print(unique_rr_counts)\n"
   ]
  }
 ],
 "metadata": {
  "kernelspec": {
   "display_name": "Python 3",
   "language": "python",
   "name": "python3"
  },
  "language_info": {
   "codemirror_mode": {
    "name": "ipython",
    "version": 3
   },
   "file_extension": ".py",
   "mimetype": "text/x-python",
   "name": "python",
   "nbconvert_exporter": "python",
   "pygments_lexer": "ipython3",
   "version": "3.11.0"
  }
 },
 "nbformat": 4,
 "nbformat_minor": 2
}
