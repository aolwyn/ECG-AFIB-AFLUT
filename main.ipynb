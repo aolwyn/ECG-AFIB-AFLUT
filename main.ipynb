{
 "cells": [
  {
   "cell_type": "markdown",
   "metadata": {},
   "source": [
    "# Main Pipeline File\n",
    "\n",
    "the following will be the pipeline:\n",
    "<ol>\n",
    "   <li>Read in the files and deal with the missing data. </li>\n",
    "   <li>Preprocess the signals</li>\n",
    "   <li>Complete feature extraction</li>\n",
    "   <li>Put data into a model.</li>\n",
    "   <li>optimize, compare, iterate - try other models.</li>\n",
    "</ol>"
   ]
  },
  {
   "cell_type": "code",
   "execution_count": null,
   "metadata": {},
   "outputs": [],
   "source": [
    "# Import libraries. \n",
    "import numpy as np\n",
    "import torch\n",
    "import pandas as pd\n",
    "import matplotlib.pyplot as plt \n",
    "import os\n",
    "import wfdb\n",
    "import pickle\n",
    "import sys\n",
    "import glob\n",
    "from scipy.signal import butter, lfilter\n",
    "import pprint\n"
   ]
  },
  {
   "cell_type": "code",
   "execution_count": null,
   "metadata": {},
   "outputs": [],
   "source": [
    "# Load helper files.\n",
    "import dataloaders\n",
    "import visualize\n",
    "import preprocess\n",
    "import segment \n",
    "# import cart_model # @Henry what is this?"
   ]
  },
  {
   "cell_type": "code",
   "execution_count": null,
   "metadata": {},
   "outputs": [],
   "source": [
    "dataloaders.get_device_info()"
   ]
  },
  {
   "cell_type": "code",
   "execution_count": null,
   "metadata": {},
   "outputs": [],
   "source": [
    "# 'C:/Users/henry/OneDrive/Desktop/ELEC 872 - AI and Interactive Systems/Project/mit-bih-arrhythmia-database-1.0.0/'\n",
    "# 'G:/Datasets/mit-bih-arrhythmia-database-1.0.0/'\n",
    "file_path = 'G:/Datasets/mit-bih-arrhythmia-database-1.0.0/'"
   ]
  },
  {
   "cell_type": "code",
   "execution_count": null,
   "metadata": {},
   "outputs": [],
   "source": [
    "# Load data. \n",
    "patient_data = dataloaders.load_all_records(file_path)"
   ]
  },
  {
   "cell_type": "code",
   "execution_count": null,
   "metadata": {},
   "outputs": [],
   "source": [
    "pp = pprint.PrettyPrinter(indent=2)\n",
    "\n",
    "# Print the structure of the patient_data dictionary\n",
    "pp.pprint(patient_data['103'][:3])"
   ]
  },
  {
   "cell_type": "code",
   "execution_count": null,
   "metadata": {},
   "outputs": [],
   "source": [
    "# # R-R interval calculation. \n",
    "# rr_intervals_report = preprocess.calculate_rr_intervals(patient_data, fs=360)\n",
    "# # print(\"R-R intervals for patient 100:\", rr_intervals_report.get('10', []))\n",
    "\n",
    "# unique_rr_counts = {patient_id: len(set(rr_intervals)) for patient_id, rr_intervals in rr_intervals_report.items()}\n",
    "# print(unique_rr_counts)\n"
   ]
  },
  {
   "cell_type": "code",
   "execution_count": null,
   "metadata": {},
   "outputs": [],
   "source": [
    "#NOTE: commented out unless u really want every thing to be printed\n",
    "# Label check for all labels that aren't 'Other'\n",
    "# for patient_id, beats in patient_data.items():\n",
    "#     print(f\"Patient ID: {patient_id}\")\n",
    "    \n",
    "#     for beat in beats: \n",
    "#         label = beat['label']\n",
    "#         if label != 'Other': \n",
    "#             print(f\"Label: {label}\") \n"
   ]
  },
  {
   "cell_type": "code",
   "execution_count": null,
   "metadata": {},
   "outputs": [],
   "source": [
    "for i in range (100,125):\n",
    "    visualize.summarize_rhythm_counts(patient_data, str(i))\n",
    "\n",
    "for i in range (200,225):\n",
    "    visualize.summarize_rhythm_counts(patient_data, str(i))\n",
    "\n",
    "#visualize.summarize_rhythm_counts(patient_data, \"203\")\n"
   ]
  },
  {
   "cell_type": "code",
   "execution_count": null,
   "metadata": {},
   "outputs": [],
   "source": [
    "#TODO: FIX THIS SHIT\n",
    "# visualize.visualize_ecgV3(patient_data, '100', num_entries=10)"
   ]
  },
  {
   "cell_type": "markdown",
   "metadata": {},
   "source": [
    "# Preprocessing Stage\n",
    "\n",
    "1. High-Pass Filter to remove baseline wander\n",
    "2. Notch Filter to remove powerline interference (if any?)\n",
    "3. Low-Pass Filter to remove high-frequency noise (set for 40 hz for now?)\n",
    "4. Moving Average Filter to smooth the remaining signal \n",
    "5. Normalization for 0-->1 because the leads all act differently\n",
    "\n",
    "<p> may want to consider an FFT or a Wavelet Transform because it's time series data. can determine later on. </p>"
   ]
  },
  {
   "cell_type": "code",
   "execution_count": null,
   "metadata": {},
   "outputs": [],
   "source": [
    "# TESTING NEW -1 AND 1 NORMALIZATION, COULDN'T ACCESS EARLY AHAHA\n",
    "\n",
    "# for patient_id, beats in patient_data.items():\n",
    "#     for beat in beats:\n",
    "#         # Apply preprocessing to each lead in the beat entry\n",
    "#         for key in beat:\n",
    "#             if key.startswith('signal_lead_'):\n",
    "#                 beat[key] = preprocess.test_signal(beat[key])\n",
    "\n",
    "# patient_id = '100'\n",
    "# if patient_id in patient_data:\n",
    "#     print(\"After preprocessing:\")\n",
    "#     pp.pprint(patient_data[patient_id][:3])  # Print first 3 beats for verification\n",
    "# else:\n",
    "#     print(f\"Patient ID {patient_id} not found in data.\")"
   ]
  },
  {
   "cell_type": "code",
   "execution_count": null,
   "metadata": {},
   "outputs": [],
   "source": [
    "# Pre-Preprocessing visual check.\n",
    "#visualize.visualize_ecg_with_annotationsV2(patient_data, patient_id='100', original_fs=360, target_fs=360)"
   ]
  },
  {
   "cell_type": "code",
   "execution_count": null,
   "metadata": {},
   "outputs": [],
   "source": [
    "#patient_data = preprocess.apply_filters_and_normalization(patient_data, fs=250)"
   ]
  },
  {
   "cell_type": "code",
   "execution_count": null,
   "metadata": {},
   "outputs": [],
   "source": [
    "# Post Pre-Preprocessing visual check.\n",
    "#visualize.visualize_ecg_with_annotationsV2(patient_data, patient_id='100')\n",
    "#visualize.visualize_ecg_with_annotationsV2(patient_data, patient_id='221')"
   ]
  },
  {
   "cell_type": "code",
   "execution_count": null,
   "metadata": {},
   "outputs": [],
   "source": [
    "# # Segment the data\n",
    "segmented_data = segment.segment_ecg_data(patient_data, snippet_length=200, samples_before=90, samples_after=90)\n",
    "\n",
    "# # Visualize \n",
    "# #segment2.visualize_segmented_data(segmented_data, patient_id='100', num_beats=3)\n",
    "# segment.visualize_segmented_data(segmented_data, patient_id='100', num_beats=3)"
   ]
  }
 ],
 "metadata": {
  "kernelspec": {
   "display_name": "Python 3",
   "language": "python",
   "name": "python3"
  },
  "language_info": {
   "codemirror_mode": {
    "name": "ipython",
    "version": 3
   },
   "file_extension": ".py",
   "mimetype": "text/x-python",
   "name": "python",
   "nbconvert_exporter": "python",
   "pygments_lexer": "ipython3",
   "version": "3.11.0"
  }
 },
 "nbformat": 4,
 "nbformat_minor": 2
}
