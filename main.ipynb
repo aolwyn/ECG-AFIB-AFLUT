{
 "cells": [
  {
   "cell_type": "markdown",
   "metadata": {},
   "source": [
    "# Main Pipeline File\n",
    "\n",
    "the following will be the pipeline:\n",
    "<ol>\n",
    "   <li>Read in the files and deal with the missing data. </li>\n",
    "   <li>Preprocess the signals</li>\n",
    "   <li>Complete feature extraction</li>\n",
    "   <li>Put data into a model.</li>\n",
    "   <li>optimize, compare, iterate - try other models.</li>\n",
    "</ol>"
   ]
  },
  {
   "cell_type": "code",
   "execution_count": 1,
   "metadata": {},
   "outputs": [],
   "source": [
    "# Import libraries. \n",
    "import numpy as np\n",
    "import torch\n",
    "import pandas as pd\n",
    "import matplotlib.pyplot as plt \n",
    "import os\n",
    "import wfdb\n",
    "import pickle\n",
    "import sys\n",
    "import glob\n",
    "from scipy.signal import butter, lfilter\n",
    "import pprint\n"
   ]
  },
  {
   "cell_type": "code",
   "execution_count": 2,
   "metadata": {},
   "outputs": [],
   "source": [
    "# Load helper files.\n",
    "import dataloaders\n",
    "import visualize\n",
    "import preprocess\n",
    "import segment \n",
    "# import cart_model"
   ]
  },
  {
   "cell_type": "code",
   "execution_count": 3,
   "metadata": {},
   "outputs": [
    {
     "name": "stdout",
     "output_type": "stream",
     "text": [
      "Using device: cpu\n",
      "\n",
      "Using the CPU, no GPU found\n"
     ]
    }
   ],
   "source": [
    "dataloaders.get_device_info()"
   ]
  },
  {
   "cell_type": "code",
   "execution_count": 4,
   "metadata": {},
   "outputs": [],
   "source": [
    "#'C:/Users/henry/OneDrive/Desktop/ELEC 872 - AI and Interactive Systems/Project/mit-bih-arrhythmia-database-1.0.0/'\n",
    "# \n",
    "file_path = 'G:/Datasets/mit-bih-arrhythmia-database-1.0.0/'"
   ]
  },
  {
   "cell_type": "code",
   "execution_count": 5,
   "metadata": {},
   "outputs": [
    {
     "name": "stdout",
     "output_type": "stream",
     "text": [
      "completed pt #G:/Datasets/mit-bih-arrhythmia-database-1.0.0/100\n",
      "completed pt #G:/Datasets/mit-bih-arrhythmia-database-1.0.0/101\n",
      "completed pt #G:/Datasets/mit-bih-arrhythmia-database-1.0.0/102\n",
      "completed pt #G:/Datasets/mit-bih-arrhythmia-database-1.0.0/103\n",
      "completed pt #G:/Datasets/mit-bih-arrhythmia-database-1.0.0/104\n",
      "completed pt #G:/Datasets/mit-bih-arrhythmia-database-1.0.0/105\n",
      "completed pt #G:/Datasets/mit-bih-arrhythmia-database-1.0.0/106\n",
      "completed pt #G:/Datasets/mit-bih-arrhythmia-database-1.0.0/107\n",
      "completed pt #G:/Datasets/mit-bih-arrhythmia-database-1.0.0/108\n",
      "completed pt #G:/Datasets/mit-bih-arrhythmia-database-1.0.0/109\n",
      "completed pt #G:/Datasets/mit-bih-arrhythmia-database-1.0.0/111\n",
      "completed pt #G:/Datasets/mit-bih-arrhythmia-database-1.0.0/112\n",
      "completed pt #G:/Datasets/mit-bih-arrhythmia-database-1.0.0/113\n",
      "completed pt #G:/Datasets/mit-bih-arrhythmia-database-1.0.0/114\n",
      "completed pt #G:/Datasets/mit-bih-arrhythmia-database-1.0.0/115\n",
      "completed pt #G:/Datasets/mit-bih-arrhythmia-database-1.0.0/116\n",
      "completed pt #G:/Datasets/mit-bih-arrhythmia-database-1.0.0/117\n",
      "completed pt #G:/Datasets/mit-bih-arrhythmia-database-1.0.0/118\n",
      "completed pt #G:/Datasets/mit-bih-arrhythmia-database-1.0.0/119\n",
      "completed pt #G:/Datasets/mit-bih-arrhythmia-database-1.0.0/121\n",
      "completed pt #G:/Datasets/mit-bih-arrhythmia-database-1.0.0/122\n",
      "completed pt #G:/Datasets/mit-bih-arrhythmia-database-1.0.0/123\n",
      "completed pt #G:/Datasets/mit-bih-arrhythmia-database-1.0.0/124\n",
      "completed pt #G:/Datasets/mit-bih-arrhythmia-database-1.0.0/200\n",
      "completed pt #G:/Datasets/mit-bih-arrhythmia-database-1.0.0/201\n",
      "completed pt #G:/Datasets/mit-bih-arrhythmia-database-1.0.0/202\n",
      "completed pt #G:/Datasets/mit-bih-arrhythmia-database-1.0.0/203\n",
      "completed pt #G:/Datasets/mit-bih-arrhythmia-database-1.0.0/205\n",
      "completed pt #G:/Datasets/mit-bih-arrhythmia-database-1.0.0/207\n",
      "completed pt #G:/Datasets/mit-bih-arrhythmia-database-1.0.0/208\n",
      "completed pt #G:/Datasets/mit-bih-arrhythmia-database-1.0.0/209\n",
      "completed pt #G:/Datasets/mit-bih-arrhythmia-database-1.0.0/210\n",
      "completed pt #G:/Datasets/mit-bih-arrhythmia-database-1.0.0/212\n",
      "completed pt #G:/Datasets/mit-bih-arrhythmia-database-1.0.0/213\n",
      "completed pt #G:/Datasets/mit-bih-arrhythmia-database-1.0.0/214\n",
      "completed pt #G:/Datasets/mit-bih-arrhythmia-database-1.0.0/215\n",
      "completed pt #G:/Datasets/mit-bih-arrhythmia-database-1.0.0/217\n",
      "completed pt #G:/Datasets/mit-bih-arrhythmia-database-1.0.0/219\n",
      "completed pt #G:/Datasets/mit-bih-arrhythmia-database-1.0.0/220\n",
      "completed pt #G:/Datasets/mit-bih-arrhythmia-database-1.0.0/221\n",
      "completed pt #G:/Datasets/mit-bih-arrhythmia-database-1.0.0/222\n",
      "completed pt #G:/Datasets/mit-bih-arrhythmia-database-1.0.0/223\n",
      "completed pt #G:/Datasets/mit-bih-arrhythmia-database-1.0.0/228\n",
      "completed pt #G:/Datasets/mit-bih-arrhythmia-database-1.0.0/230\n",
      "completed pt #G:/Datasets/mit-bih-arrhythmia-database-1.0.0/231\n",
      "completed pt #G:/Datasets/mit-bih-arrhythmia-database-1.0.0/232\n",
      "completed pt #G:/Datasets/mit-bih-arrhythmia-database-1.0.0/233\n",
      "completed pt #G:/Datasets/mit-bih-arrhythmia-database-1.0.0/234\n"
     ]
    }
   ],
   "source": [
    "# Load data. \n",
    "patient_data = dataloaders.load_all_records(file_path)\n",
    "\n",
    "#print(patient_data)\n",
    "# print(patient_data['102'][0])  # Prints the first beat entry for patient 100"
   ]
  },
  {
   "cell_type": "code",
   "execution_count": 6,
   "metadata": {},
   "outputs": [],
   "source": [
    "# Load raw ECG and annotations for a single record.\n",
    "# signal, annotations = dataloaders.load_record(file_path + '/103')\n",
    "# print(signal.shape)\n",
    "\n",
    "# record = wfdb.rdrecord(file_path+'/100')  \n",
    "# test check for loading lead count, weird bug\n",
    "# print(\"Number of leads:\", record.p_signal.shape[1])\n"
   ]
  },
  {
   "cell_type": "code",
   "execution_count": 7,
   "metadata": {},
   "outputs": [
    {
     "name": "stdout",
     "output_type": "stream",
     "text": [
      "[ {'label': 'normal', 'signal_lead_1': -0.375, 'signal_lead_2': 0.05},\n",
      "  {'label': 'normal', 'signal_lead_1': -0.375, 'signal_lead_2': 0.05},\n",
      "  {'label': 'normal', 'signal_lead_1': -0.375, 'signal_lead_2': 0.05}]\n"
     ]
    }
   ],
   "source": [
    "pp = pprint.PrettyPrinter(indent=2)\n",
    "\n",
    "# Print the structure of the patient_data dictionary\n",
    "pp.pprint(patient_data['103'][:3])"
   ]
  },
  {
   "cell_type": "code",
   "execution_count": 8,
   "metadata": {},
   "outputs": [],
   "source": [
    "# Visualize the raw ECG with annotations for the 1 record.\n",
    "#visualize.visualize_ecg_with_labels(signal, annotations, fs=250, duration=15)\n",
    "#visualize.visualize_ecg_with_annotationsV2(patient_data, patient_id='221', num_beats=5)"
   ]
  },
  {
   "cell_type": "code",
   "execution_count": 9,
   "metadata": {},
   "outputs": [],
   "source": [
    "# check for missing values now before preprocessing. \n",
    "#missing_values_report = preprocess.check_for_missing_values(patient_data)"
   ]
  },
  {
   "cell_type": "code",
   "execution_count": 10,
   "metadata": {},
   "outputs": [],
   "source": [
    "# # R-R interval calculation. \n",
    "# rr_intervals_report = preprocess.calculate_rr_intervals(patient_data, fs=360)\n",
    "# # print(\"R-R intervals for patient 100:\", rr_intervals_report.get('10', []))\n",
    "\n",
    "# unique_rr_counts = {patient_id: len(set(rr_intervals)) for patient_id, rr_intervals in rr_intervals_report.items()}\n",
    "# print(unique_rr_counts)\n"
   ]
  },
  {
   "cell_type": "code",
   "execution_count": 11,
   "metadata": {},
   "outputs": [],
   "source": [
    "#NOTE: commented out unless u really want every thing to be printed\n",
    "# Label check for all labels that aren't 'Other'\n",
    "# for patient_id, beats in patient_data.items():\n",
    "#     print(f\"Patient ID: {patient_id}\")\n",
    "    \n",
    "#     for beat in beats: \n",
    "#         label = beat['label']\n",
    "#         if label != 'Other': \n",
    "#             print(f\"Label: {label}\") \n"
   ]
  },
  {
   "cell_type": "code",
   "execution_count": 20,
   "metadata": {},
   "outputs": [
    {
     "name": "stdout",
     "output_type": "stream",
     "text": [
      "\n",
      "Summary of Rhythm Counts for Patient 102:\n",
      "\n",
      "Rhythm Type  Count\n",
      "     normal 621010\n",
      "      Other  28990\n"
     ]
    }
   ],
   "source": [
    "visualize.summarize_rhythm_counts(patient_data, \"102\")\n"
   ]
  },
  {
   "cell_type": "markdown",
   "metadata": {},
   "source": [
    "# Preprocessing Stage\n",
    "\n",
    "1. High-Pass Filter to remove baseline wander\n",
    "2. Notch Filter to remove powerline interference (if any?)\n",
    "3. Low-Pass Filter to remove high-frequency noise (set for 40 hz for now?)\n",
    "4. Moving Average Filter to smooth the remaining signal \n",
    "5. Normalization for 0-->1 because the leads all act differently\n",
    "\n",
    "<p> may want to consider an FFT or a Wavelet Transform because it's time series data. can determine later on. </p>"
   ]
  },
  {
   "cell_type": "code",
   "execution_count": 13,
   "metadata": {},
   "outputs": [],
   "source": [
    "# TESTING NEW -1 AND 1 NORMALIZATION, COULDN'T ACCESS EARLY AHAHA\n",
    "\n",
    "# for patient_id, beats in patient_data.items():\n",
    "#     for beat in beats:\n",
    "#         # Apply preprocessing to each lead in the beat entry\n",
    "#         for key in beat:\n",
    "#             if key.startswith('signal_lead_'):\n",
    "#                 beat[key] = preprocess.test_signal(beat[key])\n",
    "\n",
    "# patient_id = '100'\n",
    "# if patient_id in patient_data:\n",
    "#     print(\"After preprocessing:\")\n",
    "#     pp.pprint(patient_data[patient_id][:3])  # Print first 3 beats for verification\n",
    "# else:\n",
    "#     print(f\"Patient ID {patient_id} not found in data.\")"
   ]
  },
  {
   "cell_type": "code",
   "execution_count": 14,
   "metadata": {},
   "outputs": [],
   "source": [
    "# Pre-Preprocessing visual check.\n",
    "#visualize.visualize_ecg_with_annotationsV2(patient_data, patient_id='100', original_fs=360, target_fs=360)"
   ]
  },
  {
   "cell_type": "code",
   "execution_count": 15,
   "metadata": {},
   "outputs": [],
   "source": [
    "#patient_data = preprocess.apply_filters_and_normalization(patient_data, fs=250)"
   ]
  },
  {
   "cell_type": "code",
   "execution_count": 16,
   "metadata": {},
   "outputs": [],
   "source": [
    "# Post Pre-Preprocessing visual check.\n",
    "#visualize.visualize_ecg_with_annotationsV2(patient_data, patient_id='100')\n",
    "#visualize.visualize_ecg_with_annotationsV2(patient_data, patient_id='221')"
   ]
  },
  {
   "cell_type": "code",
   "execution_count": 17,
   "metadata": {},
   "outputs": [
    {
     "ename": "TypeError",
     "evalue": "object of type 'numpy.float64' has no len()",
     "output_type": "error",
     "traceback": [
      "\u001b[1;31m---------------------------------------------------------------------------\u001b[0m",
      "\u001b[1;31mTypeError\u001b[0m                                 Traceback (most recent call last)",
      "Cell \u001b[1;32mIn[17], line 2\u001b[0m\n\u001b[0;32m      1\u001b[0m \u001b[38;5;66;03m# Segment the data\u001b[39;00m\n\u001b[1;32m----> 2\u001b[0m segmented_data \u001b[38;5;241m=\u001b[39m \u001b[43msegment\u001b[49m\u001b[38;5;241;43m.\u001b[39;49m\u001b[43msegment_ecg_data\u001b[49m\u001b[43m(\u001b[49m\u001b[43mpatient_data\u001b[49m\u001b[43m,\u001b[49m\u001b[43m \u001b[49m\u001b[43msnippet_length\u001b[49m\u001b[38;5;241;43m=\u001b[39;49m\u001b[38;5;241;43m200\u001b[39;49m\u001b[43m,\u001b[49m\u001b[43m \u001b[49m\u001b[43msamples_before\u001b[49m\u001b[38;5;241;43m=\u001b[39;49m\u001b[38;5;241;43m90\u001b[39;49m\u001b[43m,\u001b[49m\u001b[43m \u001b[49m\u001b[43msamples_after\u001b[49m\u001b[38;5;241;43m=\u001b[39;49m\u001b[38;5;241;43m90\u001b[39;49m\u001b[43m)\u001b[49m\n\u001b[0;32m      4\u001b[0m \u001b[38;5;66;03m# Visualize \u001b[39;00m\n\u001b[0;32m      5\u001b[0m \u001b[38;5;66;03m#segment2.visualize_segmented_data(segmented_data, patient_id='100', num_beats=3)\u001b[39;00m\n\u001b[0;32m      6\u001b[0m segment\u001b[38;5;241m.\u001b[39mvisualize_segmented_data(segmented_data, patient_id\u001b[38;5;241m=\u001b[39m\u001b[38;5;124m'\u001b[39m\u001b[38;5;124m100\u001b[39m\u001b[38;5;124m'\u001b[39m, num_beats\u001b[38;5;241m=\u001b[39m\u001b[38;5;241m3\u001b[39m)\n",
      "File \u001b[1;32mg:\\Repositories\\ECG-AFIB-AFLUT\\segment.py:33\u001b[0m, in \u001b[0;36msegment_ecg_data\u001b[1;34m(ecg_data, snippet_length, samples_before, samples_after)\u001b[0m\n\u001b[0;32m     31\u001b[0m peak_position \u001b[38;5;241m=\u001b[39m samples_before  \u001b[38;5;66;03m# Center the peak\u001b[39;00m\n\u001b[0;32m     32\u001b[0m start \u001b[38;5;241m=\u001b[39m \u001b[38;5;28mmax\u001b[39m(\u001b[38;5;241m0\u001b[39m, peak_position \u001b[38;5;241m-\u001b[39m samples_before)\n\u001b[1;32m---> 33\u001b[0m end \u001b[38;5;241m=\u001b[39m \u001b[38;5;28mmin\u001b[39m(\u001b[38;5;28;43mlen\u001b[39;49m\u001b[43m(\u001b[49m\u001b[43msignal\u001b[49m\u001b[43m)\u001b[49m, peak_position \u001b[38;5;241m+\u001b[39m samples_after)\n\u001b[0;32m     35\u001b[0m segment \u001b[38;5;241m=\u001b[39m signal[start:end]\n\u001b[0;32m     37\u001b[0m \u001b[38;5;66;03m# Pad to the fixed snippet length if necessary\u001b[39;00m\n",
      "\u001b[1;31mTypeError\u001b[0m: object of type 'numpy.float64' has no len()"
     ]
    }
   ],
   "source": [
    "# Segment the data\n",
    "segmented_data = segment.segment_ecg_data(patient_data, snippet_length=200, samples_before=90, samples_after=90)\n",
    "\n",
    "# Visualize \n",
    "#segment2.visualize_segmented_data(segmented_data, patient_id='100', num_beats=3)\n",
    "segment.visualize_segmented_data(segmented_data, patient_id='100', num_beats=3)"
   ]
  }
 ],
 "metadata": {
  "kernelspec": {
   "display_name": "Python 3",
   "language": "python",
   "name": "python3"
  },
  "language_info": {
   "codemirror_mode": {
    "name": "ipython",
    "version": 3
   },
   "file_extension": ".py",
   "mimetype": "text/x-python",
   "name": "python",
   "nbconvert_exporter": "python",
   "pygments_lexer": "ipython3",
   "version": "3.12.4"
  }
 },
 "nbformat": 4,
 "nbformat_minor": 2
}
